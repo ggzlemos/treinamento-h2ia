{
  "nbformat": 4,
  "nbformat_minor": 0,
  "metadata": {
    "colab": {
      "name": "Pre-Week.ipynb",
      "provenance": [],
      "authorship_tag": "ABX9TyOwhs7Z3OwLDyFAmNw+rEwv",
      "include_colab_link": true
    },
    "kernelspec": {
      "name": "python3",
      "display_name": "Python 3"
    },
    "language_info": {
      "name": "python"
    }
  },
  "cells": [
    {
      "cell_type": "markdown",
      "metadata": {
        "id": "view-in-github",
        "colab_type": "text"
      },
      "source": [
        "<a href=\"https://colab.research.google.com/github/ggzlemos/treinamento-h2ia/blob/main/Pre_Week.ipynb\" target=\"_parent\"><img src=\"https://colab.research.google.com/assets/colab-badge.svg\" alt=\"Open In Colab\"/></a>"
      ]
    },
    {
      "cell_type": "markdown",
      "metadata": {
        "id": "B_Yd5PiypLKW"
      },
      "source": [
        "###As atividades realizadas nesse notebook fazem parte do treinamento preliminar do Hub de Inovação em Inteligência Artificial da UFPel."
      ]
    },
    {
      "cell_type": "code",
      "metadata": {
        "id": "zN3T8TA-k4Hr"
      },
      "source": [
        "import numpy as np\n",
        "import pandas as pd\n",
        "import matplotlib.pyplot as plt\n",
        "from sklearn.datasets import load_iris"
      ],
      "execution_count": null,
      "outputs": []
    },
    {
      "cell_type": "markdown",
      "metadata": {
        "id": "ukeuWO6hh5ub"
      },
      "source": [
        "####Criando numpy arrays a partir de listas:"
      ]
    },
    {
      "cell_type": "code",
      "metadata": {
        "colab": {
          "base_uri": "https://localhost:8080/"
        },
        "id": "U8Z5jsp2h-VC",
        "outputId": "2a73f572-6632-4beb-a89f-4c4551148fb8"
      },
      "source": [
        "lista = [1,2,3,4,5]\n",
        "array = np.array(lista)\n",
        "array"
      ],
      "execution_count": null,
      "outputs": [
        {
          "output_type": "execute_result",
          "data": {
            "text/plain": [
              "array([1, 2, 3, 4, 5])"
            ]
          },
          "metadata": {
            "tags": []
          },
          "execution_count": 6
        }
      ]
    },
    {
      "cell_type": "code",
      "metadata": {
        "colab": {
          "base_uri": "https://localhost:8080/"
        },
        "id": "baWiomxLh31O",
        "outputId": "18451d9d-59bd-409f-c0a0-007f5f1a9e8d"
      },
      "source": [
        "lista = [[1,2,3], [6,7,8], [9, 10, 11]]\n",
        "matriz = np.array(lista)\n",
        "matriz"
      ],
      "execution_count": null,
      "outputs": [
        {
          "output_type": "execute_result",
          "data": {
            "text/plain": [
              "array([[ 1,  2,  3],\n",
              "       [ 6,  7,  8],\n",
              "       [ 9, 10, 11]])"
            ]
          },
          "metadata": {
            "tags": []
          },
          "execution_count": 7
        }
      ]
    },
    {
      "cell_type": "markdown",
      "metadata": {
        "id": "GsK20K72j7nl"
      },
      "source": [
        "###Funções para criar arrays"
      ]
    },
    {
      "cell_type": "code",
      "metadata": {
        "colab": {
          "base_uri": "https://localhost:8080/"
        },
        "id": "w7FzY1bPkAWj",
        "outputId": "4678b1dd-bd06-4203-d347-674e76093d70"
      },
      "source": [
        "#cria array de tamanho 5 e completa com 0's\n",
        "zeros = np.zeros(5, dtype=int)\n",
        "print(\"Array:\\n {}\\n\".format(zeros))\n",
        "\n",
        "#cria matriz 3x3 e completa com 1's\n",
        "matriz_um = np.ones((3,3), dtype=int)\n",
        "print(\"Matriz:\\n {}\\n\".format(matriz_um))\n",
        "\n",
        "\n",
        "#cria matriz identidade de formato 3x3\n",
        "matriz_identidade = np.eye(3)\n",
        "print(\"Matriz Identidade:\\n {}\\n\".format(matriz_identidade))"
      ],
      "execution_count": null,
      "outputs": [
        {
          "output_type": "stream",
          "text": [
            "Array:\n",
            " [0 0 0 0 0]\n",
            "\n",
            "Matriz:\n",
            " [[1 1 1]\n",
            " [1 1 1]\n",
            " [1 1 1]]\n",
            "\n",
            "Matriz Identidade:\n",
            " [[1. 0. 0.]\n",
            " [0. 1. 0.]\n",
            " [0. 0. 1.]]\n",
            "\n"
          ],
          "name": "stdout"
        }
      ]
    },
    {
      "cell_type": "markdown",
      "metadata": {
        "id": "dtKbY9UkovKT"
      },
      "source": [
        "###Operações entre matrizes com Numpy"
      ]
    },
    {
      "cell_type": "code",
      "metadata": {
        "colab": {
          "base_uri": "https://localhost:8080/"
        },
        "id": "6pJJpd8Bo4No",
        "outputId": "d44b4493-5e87-468e-9ca2-41fb059736e4"
      },
      "source": [
        "A = np.array([[1,2,3], [4,5,6], [7,8,9]])\n",
        "B = np.array([[10,11,12], [13,14,15], [16,17,18]])\n",
        "\n",
        "print(\"A: \\n{}\\nB: \\n{}\\n\".format(A, B))"
      ],
      "execution_count": null,
      "outputs": [
        {
          "output_type": "stream",
          "text": [
            "A: \n",
            "[[1 2 3]\n",
            " [4 5 6]\n",
            " [7 8 9]]\n",
            "B: \n",
            "[[10 11 12]\n",
            " [13 14 15]\n",
            " [16 17 18]]\n",
            "\n"
          ],
          "name": "stdout"
        }
      ]
    },
    {
      "cell_type": "code",
      "metadata": {
        "colab": {
          "base_uri": "https://localhost:8080/"
        },
        "id": "iKeBekLDs7D2",
        "outputId": "e83799cb-010b-479a-8312-4868d44a2af6"
      },
      "source": [
        "#soma elemento por elemento\n",
        "soma = A + B\n",
        "print(\"Soma: \\n{}\\n\".format(soma))"
      ],
      "execution_count": null,
      "outputs": [
        {
          "output_type": "stream",
          "text": [
            "Soma: \n",
            "[[11 13 15]\n",
            " [17 19 21]\n",
            " [23 25 27]]\n",
            "\n"
          ],
          "name": "stdout"
        }
      ]
    },
    {
      "cell_type": "code",
      "metadata": {
        "colab": {
          "base_uri": "https://localhost:8080/"
        },
        "id": "-UHGDnMDs_Ht",
        "outputId": "7268f2df-6eee-4d5d-c9e9-84187228643c"
      },
      "source": [
        "#diferença elemento por elemento\n",
        "diferença = B - A\n",
        "print(\"Diferença: \\n{}\\n\".format(diferença))"
      ],
      "execution_count": null,
      "outputs": [
        {
          "output_type": "stream",
          "text": [
            "Diferença: \n",
            "[[9 9 9]\n",
            " [9 9 9]\n",
            " [9 9 9]]\n",
            "\n"
          ],
          "name": "stdout"
        }
      ]
    },
    {
      "cell_type": "code",
      "metadata": {
        "colab": {
          "base_uri": "https://localhost:8080/"
        },
        "id": "VdXeQ7BptB4v",
        "outputId": "d89ec956-4b17-4cf5-e85a-25734d9b2fa6"
      },
      "source": [
        "#produto elemento por elemento\n",
        "produto_elemento = A * B\n",
        "print(\"Produto: \\n{}\\n\".format(produto_elemento))"
      ],
      "execution_count": null,
      "outputs": [
        {
          "output_type": "stream",
          "text": [
            "Produto: \n",
            "[[ 10  22  36]\n",
            " [ 52  70  90]\n",
            " [112 136 162]]\n",
            "\n"
          ],
          "name": "stdout"
        }
      ]
    },
    {
      "cell_type": "code",
      "metadata": {
        "colab": {
          "base_uri": "https://localhost:8080/"
        },
        "id": "Esgy7zoHtihN",
        "outputId": "ea3b4686-be0d-4d40-d3ee-e85273d25fa8"
      },
      "source": [
        "#divisão elemento por elemento\n",
        "divisao_elemento = B / A\n",
        "print(\"Divisão: \\n{}\\n\".format(divisao_elemento))"
      ],
      "execution_count": null,
      "outputs": [
        {
          "output_type": "stream",
          "text": [
            "Divisão: \n",
            "[[10.          5.5         4.        ]\n",
            " [ 3.25        2.8         2.5       ]\n",
            " [ 2.28571429  2.125       2.        ]]\n",
            "\n"
          ],
          "name": "stdout"
        }
      ]
    },
    {
      "cell_type": "code",
      "metadata": {
        "colab": {
          "base_uri": "https://localhost:8080/"
        },
        "id": "KCxekqc5tvwN",
        "outputId": "28502c38-9952-4899-8470-99e0211faaa0"
      },
      "source": [
        "#multiplicação de matrizes\n",
        "C = A.dot(B)\n",
        "print(\"Mult. de Matries: \\n{}\\n\".format(C))"
      ],
      "execution_count": null,
      "outputs": [
        {
          "output_type": "stream",
          "text": [
            "Mult. de Matries: \n",
            "[[ 84  90  96]\n",
            " [201 216 231]\n",
            " [318 342 366]]\n",
            "\n"
          ],
          "name": "stdout"
        }
      ]
    },
    {
      "cell_type": "markdown",
      "metadata": {
        "id": "1cvqzkPFukPG"
      },
      "source": [
        "###Funções básicas do matplotlib"
      ]
    },
    {
      "cell_type": "code",
      "metadata": {
        "colab": {
          "base_uri": "https://localhost:8080/",
          "height": 295
        },
        "id": "5rqRnq5vuohl",
        "outputId": "6496512a-25de-4a23-8e5c-cd6dcc5f2b6e"
      },
      "source": [
        "#criando um gráfico simples com matplotlib\n",
        "x = np.linspace(1, 10)\n",
        "fig, ax = plt.subplots()\n",
        "ax.plot(x,x)\n",
        "ax.set_xlabel('Eixo X')\n",
        "ax.set_ylabel('Eixo Y')\n",
        "ax.set_title('Exemplo 1')\n",
        "\n",
        "fig.show()"
      ],
      "execution_count": null,
      "outputs": [
        {
          "output_type": "display_data",
          "data": {
            "image/png": "[encoded data removed]",
            "text/plain": [
              "<Figure size 432x288 with 1 Axes>"
            ]
          },
          "metadata": {
            "tags": [],
            "needs_background": "light"
          }
        }
      ]
    },
    {
      "cell_type": "code",
      "metadata": {
        "colab": {
          "base_uri": "https://localhost:8080/",
          "height": 295
        },
        "id": "glZUHzcdzBoQ",
        "outputId": "94a6a9ef-9612-4763-8cb0-deb8e3d13e3d"
      },
      "source": [
        "#plotando mais de uma curva no mesmo gráfico\n",
        "x = np.linspace(0,2, 100)\n",
        "fig, ax = plt.subplots()\n",
        "ax.plot(x,x, label='Linear')\n",
        "ax.plot(x, x **2, label='Quadrática')\n",
        "ax.plot(x, x **3, label='Cúbica') \n",
        "ax.set_xlabel('Eixo X')\n",
        "ax.set_ylabel('Eixo Y')\n",
        "ax.set_title('Exemplo 2')\n",
        "ax.legend()\n",
        "\n",
        "fig.show()"
      ],
      "execution_count": null,
      "outputs": [
        {
          "output_type": "display_data",
          "data": {
            "image/png": "[encoded data removed]",
            "text/plain": [
              "<Figure size 432x288 with 1 Axes>"
            ]
          },
          "metadata": {
            "tags": [],
            "needs_background": "light"
          }
        }
      ]
    },
    {
      "cell_type": "code",
      "metadata": {
        "colab": {
          "base_uri": "https://localhost:8080/",
          "height": 297
        },
        "id": "qNkjoB-V39js",
        "outputId": "fcdda5a1-d7d3-469d-cff2-82984214d150"
      },
      "source": [
        "#plotando 2 gráficos empilhados\n",
        "x = np.arange(0, 4*np.pi, 0.1)\n",
        "fig, (ax1,ax2) = plt.subplots(2,1)\n",
        "ax1.set_title('Função seno')\n",
        "ax2.set_title('Função cosseno')\n",
        "ax1.plot(x, np.sin(x))\n",
        "ax2.plot(x, np.cos(x))\n",
        "\n",
        "fig.tight_layout()\n",
        "fig.show()"
      ],
      "execution_count": null,
      "outputs": [
        {
          "output_type": "display_data",
          "data": {
            "image/png": "[encoded data removed]",
            "text/plain": [
              "<Figure size 432x288 with 2 Axes>"
            ]
          },
          "metadata": {
            "tags": [],
            "needs_background": "light"
          }
        }
      ]
    },
    {
      "cell_type": "code",
      "metadata": {
        "colab": {
          "base_uri": "https://localhost:8080/",
          "height": 297
        },
        "id": "iFGFDYa_5OTy",
        "outputId": "7643e07d-a068-4582-ad11-822b5f5f907d"
      },
      "source": [
        "#plotando 2 gráficos lado a lado\n",
        "x = np.arange(0, 4*np.pi, 0.1)\n",
        "fig, (ax1,ax2) = plt.subplots(1, 2)\n",
        "ax1.set_title('Função seno')\n",
        "ax2.set_title('Função cosseno')\n",
        "ax1.plot(x, np.sin(x))\n",
        "ax2.plot(x, np.cos(x))\n",
        "\n",
        "fig.tight_layout()\n",
        "fig.show()"
      ],
      "execution_count": null,
      "outputs": [
        {
          "output_type": "display_data",
          "data": {
            "image/png": "[encoded data removed]",
            "text/plain": [
              "<Figure size 432x288 with 2 Axes>"
            ]
          },
          "metadata": {
            "tags": [],
            "needs_background": "light"
          }
        }
      ]
    },
    {
      "cell_type": "code",
      "metadata": {
        "colab": {
          "base_uri": "https://localhost:8080/",
          "height": 265
        },
        "id": "vzl9ieIC7F01",
        "outputId": "85744752-a8c3-42dc-d9e1-dc65c84493d2"
      },
      "source": [
        "#gráfico de dispersão\n",
        "x = np.random.random(10)\n",
        "y = np.random.random(10)\n",
        "fig, ax = plt.subplots()\n",
        "ax.scatter(x, y)\n",
        "\n",
        "fig.show()"
      ],
      "execution_count": null,
      "outputs": [
        {
          "output_type": "display_data",
          "data": {
            "image/png": "[encoded data removed]",
            "text/plain": [
              "<Figure size 432x288 with 1 Axes>"
            ]
          },
          "metadata": {
            "tags": [],
            "needs_background": "light"
          }
        }
      ]
    },
    {
      "cell_type": "markdown",
      "metadata": {
        "id": "-6fjLCISztZr"
      },
      "source": [
        "###Exemplo de como criar um dataset com a biblioteca Pandas "
      ]
    },
    {
      "cell_type": "code",
      "metadata": {
        "colab": {
          "base_uri": "https://localhost:8080/"
        },
        "id": "MI31MgjopKdh",
        "outputId": "45f4e6ef-b390-492e-aa1a-5cbc38136504"
      },
      "source": [
        "iris = load_iris()\n",
        "iris.keys()"
      ],
      "execution_count": null,
      "outputs": [
        {
          "output_type": "execute_result",
          "data": {
            "text/plain": [
              "dict_keys(['data', 'target', 'target_names', 'DESCR', 'feature_names', 'filename'])"
            ]
          },
          "metadata": {
            "tags": []
          },
          "execution_count": 42
        }
      ]
    },
    {
      "cell_type": "code",
      "metadata": {
        "colab": {
          "base_uri": "https://localhost:8080/",
          "height": 198
        },
        "id": "iOD4BP_-s_Jn",
        "outputId": "24f3e96c-4373-4b31-bc67-7784f968246f"
      },
      "source": [
        "#criando um dataframe com os dados e etiquetas dos exemplos\n",
        "data = pd.DataFrame(iris.data, columns=iris.feature_names)\n",
        "data['target'] = iris.target\n",
        "data.head()"
      ],
      "execution_count": null,
      "outputs": [
        {
          "output_type": "execute_result",
          "data": {
            "text/html": [
              "<div>\n",
              "<style scoped>\n",
              "    .dataframe tbody tr th:only-of-type {\n",
              "        vertical-align: middle;\n",
              "    }\n",
              "\n",
              "    .dataframe tbody tr th {\n",
              "        vertical-align: top;\n",
              "    }\n",
              "\n",
              "    .dataframe thead th {\n",
              "        text-align: right;\n",
              "    }\n",
              "</style>\n",
              "<table border=\"1\" class=\"dataframe\">\n",
              "  <thead>\n",
              "    <tr style=\"text-align: right;\">\n",
              "      <th></th>\n",
              "      <th>sepal length (cm)</th>\n",
              "      <th>sepal width (cm)</th>\n",
              "      <th>petal length (cm)</th>\n",
              "      <th>petal width (cm)</th>\n",
              "      <th>target</th>\n",
              "    </tr>\n",
              "  </thead>\n",
              "  <tbody>\n",
              "    <tr>\n",
              "      <th>0</th>\n",
              "      <td>5.1</td>\n",
              "      <td>3.5</td>\n",
              "      <td>1.4</td>\n",
              "      <td>0.2</td>\n",
              "      <td>0</td>\n",
              "    </tr>\n",
              "    <tr>\n",
              "      <th>1</th>\n",
              "      <td>4.9</td>\n",
              "      <td>3.0</td>\n",
              "      <td>1.4</td>\n",
              "      <td>0.2</td>\n",
              "      <td>0</td>\n",
              "    </tr>\n",
              "    <tr>\n",
              "      <th>2</th>\n",
              "      <td>4.7</td>\n",
              "      <td>3.2</td>\n",
              "      <td>1.3</td>\n",
              "      <td>0.2</td>\n",
              "      <td>0</td>\n",
              "    </tr>\n",
              "    <tr>\n",
              "      <th>3</th>\n",
              "      <td>4.6</td>\n",
              "      <td>3.1</td>\n",
              "      <td>1.5</td>\n",
              "      <td>0.2</td>\n",
              "      <td>0</td>\n",
              "    </tr>\n",
              "    <tr>\n",
              "      <th>4</th>\n",
              "      <td>5.0</td>\n",
              "      <td>3.6</td>\n",
              "      <td>1.4</td>\n",
              "      <td>0.2</td>\n",
              "      <td>0</td>\n",
              "    </tr>\n",
              "  </tbody>\n",
              "</table>\n",
              "</div>"
            ],
            "text/plain": [
              "   sepal length (cm)  sepal width (cm)  ...  petal width (cm)  target\n",
              "0                5.1               3.5  ...               0.2       0\n",
              "1                4.9               3.0  ...               0.2       0\n",
              "2                4.7               3.2  ...               0.2       0\n",
              "3                4.6               3.1  ...               0.2       0\n",
              "4                5.0               3.6  ...               0.2       0\n",
              "\n",
              "[5 rows x 5 columns]"
            ]
          },
          "metadata": {
            "tags": []
          },
          "execution_count": 181
        }
      ]
    }
  ]
}